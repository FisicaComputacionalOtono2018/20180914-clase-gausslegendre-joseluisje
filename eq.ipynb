{
 "cells": [
  {
   "cell_type": "code",
   "execution_count": 60,
   "metadata": {},
   "outputs": [
    {
     "data": {
      "text/latex": [
       "$$x{\\left (t \\right )} = C_{1} e^{- i t w} + C_{2} e^{i t w}$$"
      ],
      "text/plain": [
       "           -ⅈ⋅t⋅w       ⅈ⋅t⋅w\n",
       "x(t) = C₁⋅ℯ       + C₂⋅ℯ     "
      ]
     },
     "execution_count": 60,
     "metadata": {},
     "output_type": "execute_result"
    }
   ],
   "source": [
    "import sympy \n",
    "sympy.init_printing(use_latex='mathjax')\n",
    "\n",
    "t = sympy.Symbol('t')\n",
    "w = sympy.Symbol('w')\n",
    "x = sympy.Function('x')\n",
    "\n",
    "#d2x/dt2=-k/m(x(t))\n",
    "#w=sqrt(k/m)\n",
    "#d2x/dt2=-w**2*x(t)\n",
    "\n",
    "\n",
    "f = x(t)*(-w**2)\n",
    "\n",
    "\n",
    "eq = sympy.Eq(x(t).diff(t, t), f)\n",
    "eq\n",
    "\n",
    "sol = sympy.dsolve(x(t).diff(t, t) -f)\n",
    "sol\n",
    "\n"
   ]
  },
  {
   "cell_type": "code",
   "execution_count": 59,
   "metadata": {},
   "outputs": [
    {
     "data": {
      "text/latex": [
       "$$x{\\left (t \\right )} = C_{1} e^{- i t w} + C_{2} e^{i t w}$$"
      ],
      "text/plain": [
       "           -ⅈ⋅t⋅w       ⅈ⋅t⋅w\n",
       "x(t) = C₁⋅ℯ       + C₂⋅ℯ     "
      ]
     },
     "execution_count": 59,
     "metadata": {},
     "output_type": "execute_result"
    }
   ],
   "source": [
    "import sympy \n",
    "from sympy import cos\n",
    "sympy.init_printing(use_latex='mathjax')\n",
    "\n",
    "t = sympy.Symbol('t')\n",
    "w = sympy.Symbol('w')\n",
    "b = sympy.Symbol('b')\n",
    "A = sympy.Symbol('A')\n",
    "C1 = sympy.Symbol('C2')\n",
    "C2 = sympy.Symbol('C1')\n",
    "x = sympy.Function('x')\n",
    "\n",
    "#d2x/dt2=-k/m(x(t))\n",
    "#w=sqrt(k/m)\n",
    "#d2x/dt2=-w**2*x(t)\n",
    "\n",
    "\n",
    "f=x(t)*(-w**2)\n",
    "\n",
    "ics = {x(0): A*cos(b)}\n",
    "\n",
    "eq=sympy.Eq(x(t).diff(t, t), f)\n",
    "eq\n",
    "\n",
    "sol=sympy.dsolve(x(t).diff(t, t) -f)\n",
    "sol\n",
    "\n",
    "\n",
    "constants = sympy.solve([sol.subs(t,0) - A*cos(b)], C1,C2)\n",
    "final = sol.subs(constants)\n",
    "final"
   ]
  }
 ],
 "metadata": {
  "kernelspec": {
   "display_name": "Python 2",
   "language": "python",
   "name": "python2"
  },
  "language_info": {
   "codemirror_mode": {
    "name": "ipython",
    "version": 2
   },
   "file_extension": ".py",
   "mimetype": "text/x-python",
   "name": "python",
   "nbconvert_exporter": "python",
   "pygments_lexer": "ipython2",
   "version": "2.7.15"
  }
 },
 "nbformat": 4,
 "nbformat_minor": 2
}
